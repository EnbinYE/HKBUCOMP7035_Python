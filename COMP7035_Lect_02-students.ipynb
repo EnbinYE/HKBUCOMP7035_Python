{
 "cells": [
  {
   "cell_type": "code",
   "execution_count": null,
   "metadata": {},
   "outputs": [],
   "source": []
  },
  {
   "cell_type": "markdown",
   "metadata": {
    "id": "k2jmEzCRYKXE",
    "nteract": {
     "transient": {
      "deleting": false
     }
    }
   },
   "source": [
    "## Lab Demo COMP7035 Week 2\n",
    "\n",
    "All of this lab should be submitted after this course\n",
    "\n",
    "Ensure that you have finished Exercise-1, 2, 3, 4,"
   ]
  },
  {
   "cell_type": "code",
   "execution_count": 1,
   "metadata": {},
   "outputs": [
    {
     "name": "stdout",
     "output_type": "stream",
     "text": [
      "['apple', 'banana', 'mango']\n"
     ]
    }
   ],
   "source": [
    "fruits = [\"apple\", \"banana\", \"cherry\", \"kiwi\", \"mango\"]\n",
    "newlist = [x for x in fruits if \"a\" in x]\n",
    "print(newlist)"
   ]
  },
  {
   "cell_type": "code",
   "execution_count": null,
   "metadata": {},
   "outputs": [],
   "source": []
  },
  {
   "cell_type": "code",
   "execution_count": 2,
   "metadata": {},
   "outputs": [
    {
     "name": "stdout",
     "output_type": "stream",
     "text": [
      "2\n",
      "3\n",
      "5\n"
     ]
    }
   ],
   "source": [
    "# Sets\n",
    "#• An unordered collection with no duplicate elements\n",
    "#• Doesn't allow for duplicate elements\n",
    "a_set = {5,3,2,5}\n",
    "for i in a_set:\n",
    "        print(i)"
   ]
  },
  {
   "cell_type": "code",
   "execution_count": 4,
   "metadata": {},
   "outputs": [
    {
     "name": "stdout",
     "output_type": "stream",
     "text": [
      "{1, 2, 3} {'b', 'a', 'c'} {'o', 'd', 'n', 'a', 'c'} {1, None, 'anaconda', 8.6, (1, 2, 3)}\n"
     ]
    }
   ],
   "source": [
    "set1 = set([1,1,1,2,2,3])\n",
    "set2 = set(('a', 'a', 'b', 'b', 'c')) \n",
    "set3 = set('anaconda') \n",
    "set4 = {1, 1, 'anaconda', 'anaconda', 8.6, (1, 2, 3), None}\n",
    "print(set1,set2,set3,set4)"
   ]
  },
  {
   "cell_type": "code",
   "execution_count": 6,
   "metadata": {},
   "outputs": [],
   "source": [
    "#Incorrect way: trying to create a set with mutable items (a list and a set)\n",
    "#set5 = {1, 1, 'anaconda', 'anaconda', 8.6, [1, 2, 3], {1, 2, 3}}\n",
    "#print('Set5:', set5)"
   ]
  },
  {
   "cell_type": "code",
   "execution_count": 25,
   "metadata": {},
   "outputs": [],
   "source": [
    "#set1 = set(('apple',\n",
    "#'cherry','pear','banana'))\n",
    "#set1[1]"
   ]
  },
  {
   "cell_type": "code",
   "execution_count": null,
   "metadata": {},
   "outputs": [],
   "source": [
    "#-----------------------------------------------------------------------"
   ]
  },
  {
   "cell_type": "code",
   "execution_count": null,
   "metadata": {},
   "outputs": [],
   "source": [
    "# Dictionaries"
   ]
  },
  {
   "cell_type": "code",
   "execution_count": 28,
   "metadata": {},
   "outputs": [
    {
     "name": "stdout",
     "output_type": "stream",
     "text": [
      "{'Male': 35, 'Female': 46, 'Senior People': 10}\n"
     ]
    }
   ],
   "source": [
    "thisdict = {\n",
    "    \"Male\": 35,\n",
    "    \"Female\": 46,\n",
    "    \"Senior People\": 10\n",
    "}\n",
    "print(thisdict)"
   ]
  },
  {
   "cell_type": "code",
   "execution_count": 29,
   "metadata": {},
   "outputs": [
    {
     "name": "stdout",
     "output_type": "stream",
     "text": [
      "{'brand': 'Ford', 'model': 'Mustang', 'year': 2020}\n"
     ]
    }
   ],
   "source": [
    "# Duplicates are strictly nor allowed, duplicate values will overwrite existing values\n",
    "thisdict = {\n",
    "    \"brand\": \"Ford\",\n",
    "    \"model\": \"Mustang\",\n",
    "    \"year\": 1964,\n",
    "    \"year\": 2020\n",
    "}\n",
    "print(thisdict)"
   ]
  },
  {
   "cell_type": "code",
   "execution_count": 30,
   "metadata": {},
   "outputs": [
    {
     "name": "stdout",
     "output_type": "stream",
     "text": [
      "{'name': 'John', 'age': 36, 'country': 'Norway'}\n"
     ]
    }
   ],
   "source": [
    "# use dict() constructor to build a dictionary\n",
    "thisdict = dict(name = \"John\", age = 36, country = \"Norway\")\n",
    "print(thisdict)\n"
   ]
  },
  {
   "cell_type": "markdown",
   "metadata": {
    "id": "oafV2YP9YVp7"
   },
   "source": [
    "# Exercise-1: For Loop"
   ]
  },
  {
   "cell_type": "markdown",
   "metadata": {
    "id": "jmI6d5zynI-g"
   },
   "source": [
    "Write a Python program to find those numbers which are divisible by 7 and multiples of 5, between 1500 and 2700 (both included).\n",
    "\n"
   ]
  },
  {
   "cell_type": "code",
   "execution_count": null,
   "metadata": {
    "id": "ATaGez1VnKJp"
   },
   "outputs": [],
   "source": []
  },
  {
   "cell_type": "markdown",
   "metadata": {
    "id": "MEz1OqYvhK9V"
   },
   "source": [
    "# Exercise-2: Lists"
   ]
  },
  {
   "cell_type": "markdown",
   "metadata": {
    "id": "3ezR7hFHi7eA"
   },
   "source": [
    "**Please converse the variable to list**"
   ]
  },
  {
   "cell_type": "code",
   "execution_count": null,
   "metadata": {
    "id": "vZNShVAsjCbG"
   },
   "outputs": [],
   "source": [
    "email = \"renjiewan@hkbu.edu.hk\"\n"
   ]
  },
  {
   "cell_type": "markdown",
   "metadata": {
    "id": "ISY8WFU3hRrq"
   },
   "source": [
    "**Please iterate over following lists:**"
   ]
  },
  {
   "cell_type": "code",
   "execution_count": null,
   "metadata": {
    "id": "Nq30ZWKVhRHP"
   },
   "outputs": [],
   "source": [
    "AnimalList = ['Cat','Dog','Tiger','Cow']"
   ]
  },
  {
   "cell_type": "markdown",
   "metadata": {
    "id": "TvZcTSaNiUvi"
   },
   "source": [
    "**For loop：** Find the multiples of 5 in a list"
   ]
  },
  {
   "cell_type": "code",
   "execution_count": null,
   "metadata": {
    "id": "CXUJ_NstdZHX"
   },
   "outputs": [],
   "source": [
    "numbers = [2,5,6,10,15,20,25]"
   ]
  },
  {
   "cell_type": "markdown",
   "metadata": {
    "id": "JRT2oB-rihAn"
   },
   "source": [
    "**For loop:** Find the sum of all numbers in a list"
   ]
  },
  {
   "cell_type": "code",
   "execution_count": null,
   "metadata": {
    "id": "KRvlIdqiimse"
   },
   "outputs": [],
   "source": [
    "numbers = [12,3,56,67,89,90]\n",
    "sum = 0\n"
   ]
  },
  {
   "cell_type": "markdown",
   "metadata": {
    "id": "y4dP__sSirpb"
   },
   "source": [
    "***All of Exercise-2***"
   ]
  },
  {
   "cell_type": "markdown",
   "metadata": {
    "id": "hHhUf7HolVxu"
   },
   "source": [
    "# Exercise-3: List Access"
   ]
  },
  {
   "cell_type": "markdown",
   "metadata": {
    "id": "eQC0QsBwlqGP"
   },
   "source": [
    "**Question 1:** Plese create a sublist by extracting elements from \"banana\" to \"melon\""
   ]
  },
  {
   "cell_type": "code",
   "execution_count": null,
   "metadata": {
    "id": "M4ko6wxulpaK"
   },
   "outputs": [],
   "source": [
    "thislist = [\"apple\", \"banana\", \"cherry\", \"orange\", \"kiwi\", \"melon\", \"mango\"]"
   ]
  },
  {
   "cell_type": "markdown",
   "metadata": {
    "id": "MOADoaMSnmWy"
   },
   "source": [
    "**Q2**: Create a list called `fruits` with the following elements: 'apple', 'banana', 'orange', 'grape'.\n",
    "Print the first element of the list."
   ]
  },
  {
   "cell_type": "code",
   "execution_count": null,
   "metadata": {
    "id": "9SXy9qkqnw2d"
   },
   "outputs": [],
   "source": []
  },
  {
   "cell_type": "markdown",
   "metadata": {
    "id": "-1NggFHlnqCA"
   },
   "source": [
    "**Q3:** Create a list called `numbers` with the following elements: 10, 20, 30, 40, 50.\n",
    "Print the last element of the list."
   ]
  },
  {
   "cell_type": "code",
   "execution_count": null,
   "metadata": {
    "id": "2ejLqElTnyqS"
   },
   "outputs": [],
   "source": []
  },
  {
   "cell_type": "markdown",
   "metadata": {
    "id": "W0ogRPXPnr4K"
   },
   "source": [
    "**Q4:**Create a list called `animals` with the following elements: 'cat', 'dog', 'elephant', 'giraffe', 'lion'.\n",
    "Print the second element of the list."
   ]
  },
  {
   "cell_type": "code",
   "execution_count": null,
   "metadata": {
    "id": "-dPH22c1n06V"
   },
   "outputs": [],
   "source": []
  },
  {
   "cell_type": "markdown",
   "metadata": {
    "id": "3n61Fz1BntfA"
   },
   "source": [
    "**Q5:**Create a list called `colors` with the following elements: 'red', 'green', 'blue', 'yellow'.\n",
    "Print the third element of the list."
   ]
  },
  {
   "cell_type": "code",
   "execution_count": null,
   "metadata": {
    "id": "cDJursLun2Zp"
   },
   "outputs": [],
   "source": []
  },
  {
   "cell_type": "markdown",
   "metadata": {
    "id": "lqAk73uXnuA0"
   },
   "source": [
    "**Q6:**Create a list called `grades` with the following elements: 90, 85, 95, 80, 75.\n",
    "Print the second to last element of the list."
   ]
  },
  {
   "cell_type": "code",
   "execution_count": null,
   "metadata": {
    "id": "t0fUnc5Jn3qL"
   },
   "outputs": [],
   "source": []
  },
  {
   "cell_type": "markdown",
   "metadata": {
    "id": "8zf0oR0bl1cw"
   },
   "source": [
    "***All of Exercise-3***"
   ]
  },
  {
   "cell_type": "markdown",
   "metadata": {
    "id": "8bJkwzFsoKbH"
   },
   "source": [
    "# Exercise-4"
   ]
  },
  {
   "cell_type": "markdown",
   "metadata": {
    "id": "75_SyX1XmWLc"
   },
   "source": [
    "**Question 1:** You have given a Python list. Write a program to find value 20 in the list, and if it is present, replace it with 200. Only update the first occurrence of an item:\n",
    "* Use list method index(20) to get the index number of a 20\n",
    "* Next, update the item present at the location using the index number"
   ]
  },
  {
   "cell_type": "code",
   "execution_count": null,
   "metadata": {
    "id": "Ol6OsEY_mW28"
   },
   "outputs": [],
   "source": [
    "list1 = [5, 10, 15, 20, 25, 50, 20]"
   ]
  },
  {
   "cell_type": "markdown",
   "metadata": {
    "id": "k1Z3-Y8IYKXJ",
    "tags": []
   },
   "source": [
    "## Exercise-5\n",
    "### You can use any Python style or techniques to complete the exercise!"
   ]
  },
  {
   "cell_type": "markdown",
   "metadata": {
    "id": "aPLRPFYfYkoe"
   },
   "source": [
    "**While Loop:**\n",
    "Please finish the following steps:\n",
    "\n",
    "* Set counter = 0\n",
    "* Run **while** loop till number != 0\n",
    "* In each iteration of loop\n",
    "* Reduce the last digit from the number using floor division ( number = number // 10)\n",
    "*Increment counter by 1\n",
    "* print counter"
   ]
  },
  {
   "cell_type": "code",
   "execution_count": null,
   "metadata": {
    "id": "qDCnsTF1YPMW"
   },
   "outputs": [],
   "source": [
    "num = 75869\n"
   ]
  },
  {
   "cell_type": "markdown",
   "metadata": {
    "id": "U5erNyaAYKXJ",
    "tags": []
   },
   "source": [
    "**Q1:** Write a Python program to search a list for the first int object which is divisible by 13.  \n",
    "You may test your program with the list [12, \"COMP\", 999.9, \"2022\", 26, \"Great\"]  \n",
    "*Hint [`isinstance()`](https://www.w3schools.com/python/ref_func_isinstance.asp)*"
   ]
  },
  {
   "cell_type": "code",
   "execution_count": null,
   "metadata": {
    "id": "BLzM4CCWYKXJ"
   },
   "outputs": [],
   "source": [
    "## Please write your code here"
   ]
  },
  {
   "cell_type": "markdown",
   "metadata": {
    "id": "qdYKjwhrYKXK"
   },
   "source": [
    "**Q2:**Write a Python program to convert the 24 hour clock to a 12 hour clock format.  \n",
    "For example, to get an user input 1532, then output"
   ]
  },
  {
   "cell_type": "code",
   "execution_count": null,
   "metadata": {
    "id": "mOOG3Lg-YKXK"
   },
   "outputs": [],
   "source": [
    "## Please write your code here"
   ]
  },
  {
   "cell_type": "markdown",
   "metadata": {
    "id": "bM3g8RvHpwzB"
   },
   "source": [
    "**Q3:**Write a Python program to sum all the items in a list.\n",
    "\n"
   ]
  },
  {
   "cell_type": "code",
   "execution_count": 20,
   "metadata": {
    "id": "4GpSOnh4pwVh"
   },
   "outputs": [
    {
     "name": "stdout",
     "output_type": "stream",
     "text": [
      "15\n"
     ]
    }
   ],
   "source": [
    "numbers = [1, 2, 3, 4, 5]\n",
    "sum = 0\n",
    "for number in numbers:\n",
    "    sum += number\n",
    "print(sum)"
   ]
  },
  {
   "cell_type": "markdown",
   "metadata": {
    "id": "gQrYC4Gap8T7"
   },
   "source": [
    "**Q4:**Write a Python program to get the largest number from a list."
   ]
  },
  {
   "cell_type": "code",
   "execution_count": 21,
   "metadata": {
    "id": "moTt9wY4qB0P"
   },
   "outputs": [
    {
     "name": "stdout",
     "output_type": "stream",
     "text": [
      "30\n"
     ]
    }
   ],
   "source": [
    "numbers = [10, 5, 20, 15, 30]\n",
    "largeNum = numbers[0]\n",
    "for number in numbers:\n",
    "    if number > largeNum:\n",
    "        largeNum = number\n",
    "print(largeNum)\n",
    "       "
   ]
  },
  {
   "cell_type": "markdown",
   "metadata": {
    "id": "WTyImLezqNnS"
   },
   "source": [
    "**Q5:**Write a Python program to remove duplicates from a list."
   ]
  },
  {
   "cell_type": "code",
   "execution_count": 23,
   "metadata": {
    "id": "kb5hYR9QqMG0"
   },
   "outputs": [
    {
     "name": "stdout",
     "output_type": "stream",
     "text": [
      "[1, 2, 3, 4, 5, 6, 7, 8, 9]\n"
     ]
    }
   ],
   "source": [
    "numbers = [1, 2, 3, 4, 4, 5, 6, 6, 7, 8, 9, 9]\n",
    "unique_numbers = []\n",
    "for number in numbers:\n",
    "    if number not in unique_numbers:\n",
    "        unique_numbers.append(number)\n",
    "\n",
    "print(unique_numbers)\n"
   ]
  },
  {
   "cell_type": "markdown",
   "metadata": {
    "id": "z5UeBEXPqWkO"
   },
   "source": [
    "**Q6:**Write a Python program to append a list to the second list."
   ]
  },
  {
   "cell_type": "code",
   "execution_count": 24,
   "metadata": {
    "id": "eKQhfK69qWO4"
   },
   "outputs": [
    {
     "name": "stdout",
     "output_type": "stream",
     "text": [
      "[4, 5, 6, 1, 2, 3]\n"
     ]
    }
   ],
   "source": [
    "list1 = [1, 2, 3]\n",
    "list2 = [4, 5, 6]\n",
    "\n",
    "list2.extend(list1)\n",
    "\n",
    "print(list2)\n"
   ]
  },
  {
   "cell_type": "code",
   "execution_count": null,
   "metadata": {},
   "outputs": [],
   "source": []
  }
 ],
 "metadata": {
  "colab": {
   "provenance": []
  },
  "gist_id": "5cf6e153096947da7ad5a7abe3a530bd",
  "kernel_info": {
   "name": "python3"
  },
  "kernelspec": {
   "display_name": "Python 3 (ipykernel)",
   "language": "python",
   "name": "python3"
  },
  "language_info": {
   "codemirror_mode": {
    "name": "ipython",
    "version": 3
   },
   "file_extension": ".py",
   "mimetype": "text/x-python",
   "name": "python",
   "nbconvert_exporter": "python",
   "pygments_lexer": "ipython3",
   "version": "3.11.7"
  },
  "nteract": {
   "version": "0.28.0"
  }
 },
 "nbformat": 4,
 "nbformat_minor": 4
}
