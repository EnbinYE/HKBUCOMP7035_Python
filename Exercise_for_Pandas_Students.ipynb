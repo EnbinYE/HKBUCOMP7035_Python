{
 "cells": [
  {
   "cell_type": "code",
   "execution_count": 1,
   "metadata": {},
   "outputs": [
    {
     "name": "stdout",
     "output_type": "stream",
     "text": [
      "a   -0.527538\n",
      "b    0.987302\n",
      "c    2.605984\n",
      "d    0.291367\n",
      "e    1.850061\n",
      "dtype: float64\n"
     ]
    }
   ],
   "source": [
    "import pandas as pd\n",
    "import numpy as np\n",
    "\n",
    "#• A one-dimensional labeled array capable of holding any mixture data type\n",
    "s = pd.Series(np.random.randn(5), index=['a','b','c','d','e'])\n",
    "print(s)"
   ]
  },
  {
   "cell_type": "markdown",
   "metadata": {
    "id": "MluNHeNdtkbC"
   },
   "source": [
    "**Exercise-1:** Create a Pandas Series from the given list and print the Series\n",
    "\n",
    "`list = [1, 3, 5, np.nan, 6, 8]`"
   ]
  },
  {
   "cell_type": "code",
   "execution_count": 3,
   "metadata": {
    "colab": {
     "base_uri": "https://localhost:8080/",
     "height": 272
    },
    "id": "CIREjW9gphvL",
    "outputId": "9e63416f-70b3-48a7-cdc7-f8afd63c9bd7"
   },
   "outputs": [
    {
     "name": "stdout",
     "output_type": "stream",
     "text": [
      "0    1.0\n",
      "1    3.0\n",
      "2    5.0\n",
      "3    NaN\n",
      "4    6.0\n",
      "5    8.0\n",
      "dtype: float64\n"
     ]
    }
   ],
   "source": [
    "import pandas as pd\n",
    "import numpy as np\n",
    "list = [1, 3, 5, np.nan, 6, 8]\n",
    "s = pd.Series(list, index=[0,1,2,3,4,5])\n",
    "print(s)"
   ]
  },
  {
   "cell_type": "markdown",
   "metadata": {
    "id": "vsrpqTKPuYDG"
   },
   "source": [
    "**Exercise-2:** Create a Pandas Series from the given dictionary and print the Series\n",
    "\n",
    "`dict = {'a': [1., 2], 'b': [{'a', 'b'}, 'c'], 'c': 3}`\n"
   ]
  },
  {
   "cell_type": "code",
   "execution_count": 4,
   "metadata": {
    "colab": {
     "base_uri": "https://localhost:8080/",
     "height": 178
    },
    "id": "He_Do8UAvjfN",
    "outputId": "513dad7c-3dee-473b-cbff-7ed0266d38ee"
   },
   "outputs": [
    {
     "name": "stdout",
     "output_type": "stream",
     "text": [
      "a       [1.0, 2]\n",
      "b    [{b, a}, c]\n",
      "c              3\n",
      "dtype: object\n"
     ]
    }
   ],
   "source": [
    "import pandas as pd\n",
    "dict = {'a': [1., 2], 'b':[{'a','b'}, 'c'], 'c':3}\n",
    "s = pd.Series(dict)\n",
    "print(s)"
   ]
  },
  {
   "cell_type": "markdown",
   "metadata": {
    "id": "xvz4AT-WxMdy"
   },
   "source": [
    "**Exercise-3:** Print the Series as the order of index ['c', 'b', 'a']"
   ]
  },
  {
   "cell_type": "code",
   "execution_count": 5,
   "metadata": {
    "colab": {
     "base_uri": "https://localhost:8080/"
    },
    "id": "mkIwUd8mxxzY",
    "outputId": "bf212879-813e-419d-da41-3dd06364daee"
   },
   "outputs": [
    {
     "name": "stdout",
     "output_type": "stream",
     "text": [
      "c              3\n",
      "b    [{b, a}, c]\n",
      "a       [1.0, 2]\n",
      "dtype: object\n"
     ]
    }
   ],
   "source": [
    "import pandas as pd\n",
    "\n",
    "#dict\n",
    "dict = {'a': [1., 2], 'b': [{'a', 'b'}, 'c'], 'c': 3}\n",
    "s = pd.Series(dict,index=['c','b','a'])\n",
    "print(s)"
   ]
  },
  {
   "cell_type": "markdown",
   "metadata": {
    "id": "v7N1AZ7MxzGr"
   },
   "source": [
    "**Exercise-4:** Create a Series from the given dictionary and Convert the created Series to list and dictionary"
   ]
  },
  {
   "cell_type": "code",
   "execution_count": 6,
   "metadata": {
    "colab": {
     "base_uri": "https://localhost:8080/"
    },
    "id": "38k18vrlysjZ",
    "outputId": "4e92e050-7c82-41e0-9def-82ccb24ec9bf"
   },
   "outputs": [
    {
     "name": "stdout",
     "output_type": "stream",
     "text": [
      "Original dictionary\n",
      "{'a': 4, 'b': 8, 'c': 16, 'd': 32, 'e': 64}\n",
      "a     4\n",
      "b     8\n",
      "c    16\n",
      "d    32\n",
      "e    64\n",
      "dtype: int64\n",
      "[4, 8, 16, 32, 64]\n",
      "{'a': 4, 'b': 8, 'c': 16, 'd': 32, 'e': 64}\n"
     ]
    }
   ],
   "source": [
    "import pandas as pd\n",
    "import numpy as np\n",
    "\n",
    "#given dict\n",
    "d = {'a': 4, 'b': 8, 'c': 16, 'd': 32, 'e': 64}\n",
    "print(\"Original dictionary\")\n",
    "print(d)\n",
    "s = pd.Series(d)\n",
    "print(s)\n",
    "s_list = s.to_list()\n",
    "s_dict = s.to_dict()\n",
    "print(s_list)\n",
    "print(s_dict)"
   ]
  },
  {
   "cell_type": "markdown",
   "metadata": {
    "id": "PvfCIc-7qMCi"
   },
   "source": [
    "**Exercise-5:** Given a Series of five cities and their corresponding populations, please use the tag index to extract the population corresponding to Hong Kong."
   ]
  },
  {
   "cell_type": "code",
   "execution_count": 11,
   "metadata": {
    "colab": {
     "base_uri": "https://localhost:8080/"
    },
    "id": "I_7DbXo0zfJJ",
    "outputId": "2fbd66d5-5035-4a99-f415-113980671042"
   },
   "outputs": [
    {
     "name": "stdout",
     "output_type": "stream",
     "text": [
      "New York      8000000\n",
      "Tokyo        15000000\n",
      "Shanghai     12000000\n",
      "Hong Kong     7000000\n",
      "Sydney        3000000\n",
      "dtype: int64\n",
      "--------------------------------------------------\n",
      "s[\"Hong Kong\"]=7000000\n"
     ]
    }
   ],
   "source": [
    "import pandas as pd\n",
    "\n",
    "#given series\n",
    "s = pd.Series([8000000, 15000000, 12000000, 7000000, 3000000], index=['New York', 'Tokyo', 'Shanghai', 'Hong Kong', 'Sydney'])\n",
    "print(s)\n",
    "print('--------------------------------------------------')\n",
    "print('s[\"Hong Kong\"]={}'.format(s[\"Hong Kong\"]))\n",
    "#print('s[0]={}'.format(s[0]))"
   ]
  },
  {
   "cell_type": "markdown",
   "metadata": {
    "id": "wlXFZTnc1VNf"
   },
   "source": [
    "**Exercise-6:** Create a Series of 10 random numbers, use the position index to print out the first five elements and the last three elements."
   ]
  },
  {
   "cell_type": "code",
   "execution_count": 18,
   "metadata": {
    "colab": {
     "base_uri": "https://localhost:8080/"
    },
    "id": "s9THGEIw2cnQ",
    "outputId": "c625e778-cb94-487d-a551-89a0dd0cb0bc"
   },
   "outputs": [
    {
     "name": "stdout",
     "output_type": "stream",
     "text": [
      "0    0.184299\n",
      "1    0.397343\n",
      "2   -0.312386\n",
      "3    1.324679\n",
      "4    2.130561\n",
      "5    0.596765\n",
      "6   -1.046940\n",
      "7    1.330782\n",
      "8   -0.543817\n",
      "9    2.235452\n",
      "dtype: float64\n",
      "--------------------------------------------------\n",
      "0    0.184299\n",
      "1    0.397343\n",
      "2   -0.312386\n",
      "3    1.324679\n",
      "4    2.130561\n",
      "5    0.596765\n",
      "dtype: float64\n",
      "--------------------------------------------------\n",
      "7    1.330782\n",
      "8   -0.543817\n",
      "9    2.235452\n",
      "dtype: float64\n",
      "--------------------------------------------------\n"
     ]
    }
   ],
   "source": [
    "import pandas as pd\n",
    "import numpy as np\n",
    "end_string = '\\n' + '-'*50 + '\\n'\n",
    "s = pd.Series(np.random.randn(10), index=[i for i in range(0,10)])\n",
    "print(s,end = end_string)\n",
    "print(s[0:6], end = end_string) \n",
    "print(s[7::], end = end_string)"
   ]
  },
  {
   "cell_type": "markdown",
   "metadata": {
    "id": "AK0ZYWkR3DEU"
   },
   "source": [
    "**Exercise-7:** Create a Series of 10 random numbers, print all elements that are greater than 0.3 and calculate the proportion of elements that larger than 0.3 in the Seires"
   ]
  },
  {
   "cell_type": "code",
   "execution_count": 21,
   "metadata": {
    "colab": {
     "base_uri": "https://localhost:8080/"
    },
    "id": "7_4CWfLg3e4I",
    "outputId": "12d297f8-13cd-46fe-ea3e-8228d1e055eb"
   },
   "outputs": [
    {
     "name": "stdout",
     "output_type": "stream",
     "text": [
      "0    1.137553\n",
      "1   -0.285101\n",
      "2    0.038507\n",
      "3   -0.269565\n",
      "4    0.240221\n",
      "5   -0.657282\n",
      "6   -0.996926\n",
      "7   -0.718557\n",
      "8   -0.354667\n",
      "9   -0.539637\n",
      "dtype: float64\n",
      "--------------------------------------------------\n",
      "0    1.137553\n",
      "dtype: float64\n",
      "--------------------------------------------------\n"
     ]
    }
   ],
   "source": [
    "import pandas as pd\n",
    "import numpy as np\n",
    "end_string = '\\n' + '-'*50 + '\\n'\n",
    "s = pd.Series(np.random.randn(10), index=[i for i in range(0,10)])\n",
    "print(s,end = end_string)\n",
    "print(s[s>0.3], end = end_string)"
   ]
  },
  {
   "cell_type": "markdown",
   "metadata": {
    "id": "SjiyseS73qaT"
   },
   "source": [
    "**Exercise-8:** Given a Series of 5 random numbers with indexes, use get() function to get the values of index 'd' and index 'f' respectively.\n",
    "If there is no value of index 'f', add a value for index 'f'"
   ]
  },
  {
   "cell_type": "code",
   "execution_count": 23,
   "metadata": {
    "colab": {
     "base_uri": "https://localhost:8080/"
    },
    "id": "YnK5AZslE4jW",
    "outputId": "f6494979-868b-4042-8b47-0156f896c7f3"
   },
   "outputs": [
    {
     "name": "stdout",
     "output_type": "stream",
     "text": [
      "a    2.639163\n",
      "b    0.229428\n",
      "c   -0.227238\n",
      "d   -0.933948\n",
      "e    1.529753\n",
      "dtype: float64\n",
      "--------------------------------------------------\n",
      "-0.933948385783771\n",
      "None\n",
      "--------------------------------------------------\n",
      "a    2.639163\n",
      "b    0.229428\n",
      "c   -0.227238\n",
      "d   -0.933948\n",
      "e    1.529753\n",
      "f    0.000000\n",
      "dtype: float64\n",
      "--------------------------------------------------\n"
     ]
    }
   ],
   "source": [
    "import pandas as pd\n",
    "import numpy as np\n",
    "\n",
    "#given series\n",
    "s = pd.Series(np.random.randn(5), index=['a', 'b', 'c', 'd', 'e'])\n",
    "print(s,end = end_string)\n",
    "print(s.get('d'))\n",
    "print(s.get('f'),end = end_string)\n",
    "s['f'] = 0\n",
    "print(s,end = end_string)"
   ]
  },
  {
   "cell_type": "markdown",
   "metadata": {
    "id": "C_f86PtIH_NG"
   },
   "source": [
    "**Exercise-9:** Given a Series named ser, get the following information for it:\n",
    "Index object\n",
    "ndarray object of Series value\n",
    "The name of Series\n",
    "The data type of Series\n",
    "Length of Series"
   ]
  },
  {
   "cell_type": "code",
   "execution_count": 27,
   "metadata": {
    "colab": {
     "base_uri": "https://localhost:8080/"
    },
    "id": "xq1uESP5PPFc",
    "outputId": "7d38fc0a-4255-4307-c976-cf77298be2e6"
   },
   "outputs": [
    {
     "name": "stdout",
     "output_type": "stream",
     "text": [
      "Index(['a', 'b', 'c', 'd', 'e', 'f'], dtype='object')\n",
      "--------------------------------------------------\n",
      "[ 2.63916336  0.22942784 -0.22723754 -0.93394839  1.52975343  0.        ]\n",
      "--------------------------------------------------\n",
      "None\n",
      "--------------------------------------------------\n",
      "float64\n",
      "--------------------------------------------------\n",
      "6\n",
      "--------------------------------------------------\n"
     ]
    }
   ],
   "source": [
    "import pandas as pd\n",
    "\n",
    "#given Series\n",
    "ser = pd.Series([1, 2, 3, 4], index=['a', 'b', 'c', 'd'], name='age', dtype='float')\n",
    "print(s.index,end = end_string)\n",
    "print(s.values,end = end_string)\n",
    "print(s.name,end = end_string)\n",
    "print(s.dtype,end = end_string)\n",
    "print(s.size,end = end_string) #length"
   ]
  },
  {
   "cell_type": "markdown",
   "metadata": {
    "id": "rortLFi4Phf6"
   },
   "source": [
    "**Exercise-10:** Given a Series of 5 numbers with indexes, use for loop to make every value double and print every index and new value"
   ]
  },
  {
   "cell_type": "code",
   "execution_count": 36,
   "metadata": {
    "colab": {
     "base_uri": "https://localhost:8080/"
    },
    "id": "wLU19D7hPzyy",
    "outputId": "60de3481-b313-4ca9-81d4-d9828db08cc4"
   },
   "outputs": [
    {
     "name": "stdout",
     "output_type": "stream",
     "text": [
      "a   -2.293624\n",
      "b   -0.033711\n",
      "c   -1.662023\n",
      "d    0.411454\n",
      "e   -1.417739\n",
      "dtype: float64\n",
      "--------------------------------------------------\n",
      "a   -4.587248\n",
      "b   -0.067423\n",
      "c   -3.324046\n",
      "d    0.822908\n",
      "e   -2.835478\n",
      "dtype: float64\n",
      "--------------------------------------------------\n"
     ]
    }
   ],
   "source": [
    "import pandas as pd\n",
    "import numpy as np\n",
    "\n",
    "#given series\n",
    "s = pd.Series(np.random.randn(5), index=['a', 'b', 'c', 'd', 'e'])\n",
    "print(s, end = end_string)\n",
    "for idx, val in s.items():\n",
    "    s[idx] *= 2\n",
    "print(s, end = end_string)"
   ]
  },
  {
   "cell_type": "markdown",
   "metadata": {
    "id": "0Xl8UgNtR352"
   },
   "source": [
    "**Exercise-11:** Given a Series of 5 Cities' Annual GDP, find all the cities whose annual GDP is higher than the average annual GDP of these cities"
   ]
  },
  {
   "cell_type": "code",
   "execution_count": 63,
   "metadata": {
    "colab": {
     "base_uri": "https://localhost:8080/"
    },
    "id": "hbVbwNqpSeaG",
    "outputId": "4b5f62fe-4c5d-4f03-987d-24a763ea0d57"
   },
   "outputs": [
    {
     "name": "stdout",
     "output_type": "stream",
     "text": [
      "Index(['Tokyo', 'New York'], dtype='object')\n",
      "--------------------------------------------------\n"
     ]
    }
   ],
   "source": [
    "import pandas as pd\n",
    "import numpy as np\n",
    "\n",
    "#given series\n",
    "city_gdp = pd.Series([1800, 1570, 960, 895, 890], index=['Tokyo', 'New York', 'Los Angelas', 'Seoul', 'Paris'])\n",
    "sum = 0\n",
    "for idx, val in city_gdp.items():\n",
    "    sum += val\n",
    "mean = sum / city_gdp.size\n",
    "print(city_gdp[city_gdp > mean].index, end= end_string)\n"
   ]
  },
  {
   "cell_type": "markdown",
   "metadata": {
    "id": "2Gs85jcQXk1e"
   },
   "source": [
    "**Exercise-12:** Given a Dictionary **data**, create a dataframe using dict **data**"
   ]
  },
  {
   "cell_type": "code",
   "execution_count": 40,
   "metadata": {
    "colab": {
     "base_uri": "https://localhost:8080/",
     "height": 300
    },
    "id": "D7lO8ElyXzI-",
    "outputId": "63a4abb7-216b-480b-8960-30e0e9a9d147"
   },
   "outputs": [
    {
     "name": "stdout",
     "output_type": "stream",
     "text": [
      "  grammer  score\n",
      "0  Python    1.0\n",
      "1       C    2.0\n",
      "2    Java    NaN\n",
      "3      GO    4.0\n",
      "4     NaN    5.0\n",
      "5     SQL    6.0\n",
      "6     PHP    7.0\n",
      "7  Python   10.0\n"
     ]
    }
   ],
   "source": [
    "import pandas as pd\n",
    "import numpy as np\n",
    "\n",
    "#given dict\n",
    "data = {\"grammer\":[\"Python\",\"C\",\"Java\",\"GO\",np.nan,\"SQL\",\"PHP\",\"Python\"], \"score\":[1,2,np.nan,4,5,6,7,10]}\n",
    "df = pd.DataFrame(data)\n",
    "print(df)"
   ]
  },
  {
   "cell_type": "markdown",
   "metadata": {
    "id": "-oq_KMhZhLKF"
   },
   "source": [
    "**Exercise-13:** Given the Dictionary **data**, create a dataframe using dict **data**, and set the indexes as ['a', 'b', 'c', 'd', 'e', 'f', 'g', 'h']"
   ]
  },
  {
   "cell_type": "code",
   "execution_count": 41,
   "metadata": {
    "colab": {
     "base_uri": "https://localhost:8080/",
     "height": 300
    },
    "id": "L7_fQKkPiAw7",
    "outputId": "336d813f-ebcb-4b0a-cdf5-95a55a6bc684"
   },
   "outputs": [
    {
     "name": "stdout",
     "output_type": "stream",
     "text": [
      "  grammer  score\n",
      "a  Python    1.0\n",
      "b       C    2.0\n",
      "c    Java    NaN\n",
      "d      GO    4.0\n",
      "e     NaN    5.0\n",
      "f     SQL    6.0\n",
      "g     PHP    7.0\n",
      "h  Python   10.0\n"
     ]
    }
   ],
   "source": [
    "import pandas as pd\n",
    "import numpy as np\n",
    "\n",
    "#given dict\n",
    "data = {\"grammer\":[\"Python\",\"C\",\"Java\",\"GO\",np.nan,\"SQL\",\"PHP\",\"Python\"], \"score\":[1,2,np.nan,4,5,6,7,10]}\n",
    "df = pd.DataFrame(data, index= ['a', 'b', 'c', 'd', 'e', 'f', 'g', 'h'])\n",
    "print(df)"
   ]
  },
  {
   "cell_type": "markdown",
   "metadata": {
    "id": "iCpC-MFyYMYU"
   },
   "source": [
    "**Exercise-14:** Given the Dataframe created in **Exercise-13**, extract the lines containing the string **\"Python\"** to create a new Dataframe"
   ]
  },
  {
   "cell_type": "code",
   "execution_count": 43,
   "metadata": {
    "colab": {
     "base_uri": "https://localhost:8080/",
     "height": 112
    },
    "id": "hFbul5JaZBpt",
    "outputId": "b0c7bad9-d840-4a1b-a0b7-df1e6c067a26"
   },
   "outputs": [
    {
     "data": {
      "text/html": [
       "<div>\n",
       "<style scoped>\n",
       "    .dataframe tbody tr th:only-of-type {\n",
       "        vertical-align: middle;\n",
       "    }\n",
       "\n",
       "    .dataframe tbody tr th {\n",
       "        vertical-align: top;\n",
       "    }\n",
       "\n",
       "    .dataframe thead th {\n",
       "        text-align: right;\n",
       "    }\n",
       "</style>\n",
       "<table border=\"1\" class=\"dataframe\">\n",
       "  <thead>\n",
       "    <tr style=\"text-align: right;\">\n",
       "      <th></th>\n",
       "      <th>grammer</th>\n",
       "      <th>score</th>\n",
       "    </tr>\n",
       "  </thead>\n",
       "  <tbody>\n",
       "    <tr>\n",
       "      <th>a</th>\n",
       "      <td>Python</td>\n",
       "      <td>1.0</td>\n",
       "    </tr>\n",
       "    <tr>\n",
       "      <th>h</th>\n",
       "      <td>Python</td>\n",
       "      <td>10.0</td>\n",
       "    </tr>\n",
       "  </tbody>\n",
       "</table>\n",
       "</div>"
      ],
      "text/plain": [
       "  grammer  score\n",
       "a  Python    1.0\n",
       "h  Python   10.0"
      ]
     },
     "execution_count": 43,
     "metadata": {},
     "output_type": "execute_result"
    }
   ],
   "source": [
    "import pandas as pd\n",
    "import numpy as np\n",
    "\n",
    "#new dataframe\n",
    "df[df['grammer'] == 'Python']"
   ]
  },
  {
   "cell_type": "markdown",
   "metadata": {
    "id": "ZoDOt4byjzf6"
   },
   "source": [
    "**Exercise-15:** Given the Dataframe created in **Exercise-13**, extract all information of the dataframe, including **index**, **columns**, **shape** and **values**"
   ]
  },
  {
   "cell_type": "code",
   "execution_count": 45,
   "metadata": {
    "colab": {
     "base_uri": "https://localhost:8080/"
    },
    "id": "ZHJYKVhXdJ3_",
    "outputId": "de33da81-cc68-4f83-d13a-4791b0d7d7d0"
   },
   "outputs": [
    {
     "name": "stdout",
     "output_type": "stream",
     "text": [
      "  grammer  score\n",
      "a  Python    1.0\n",
      "b       C    2.0\n",
      "c    Java    NaN\n",
      "d      GO    4.0\n",
      "e     NaN    5.0\n",
      "f     SQL    6.0\n",
      "g     PHP    7.0\n",
      "h  Python   10.0\n",
      "--------------------------------------------------\n",
      "Index(['a', 'b', 'c', 'd', 'e', 'f', 'g', 'h'], dtype='object')\n",
      "--------------------------------------------------\n",
      "Index(['grammer', 'score'], dtype='object')\n",
      "--------------------------------------------------\n",
      "(8, 2)\n",
      "--------------------------------------------------\n",
      "[['Python' 1.0]\n",
      " ['C' 2.0]\n",
      " ['Java' nan]\n",
      " ['GO' 4.0]\n",
      " [nan 5.0]\n",
      " ['SQL' 6.0]\n",
      " ['PHP' 7.0]\n",
      " ['Python' 10.0]]\n",
      "--------------------------------------------------\n"
     ]
    }
   ],
   "source": [
    "import pandas as pd\n",
    "import numpy as np\n",
    "print(df,end = end_string)\n",
    "print(df.index,end = end_string)\n",
    "print(df.columns,end = end_string)\n",
    "print(df.shape,end = end_string)\n",
    "print(df.values,end = end_string)"
   ]
  },
  {
   "cell_type": "markdown",
   "metadata": {
    "id": "QThw4xR0r6UK"
   },
   "source": [
    "**Exercise-16:** Given the Dataframe created in **Exercise-13**, select and print the **'grammer'** and **'score'** for the rows with indices **'b'**, **'f'**, and **'h'**."
   ]
  },
  {
   "cell_type": "code",
   "execution_count": 47,
   "metadata": {
    "colab": {
     "base_uri": "https://localhost:8080/"
    },
    "id": "jtDkqixBshO3",
    "outputId": "4e56b0e3-409d-4b16-b732-8385a2289554"
   },
   "outputs": [
    {
     "name": "stdout",
     "output_type": "stream",
     "text": [
      "  grammer  score\n",
      "b       C    2.0\n",
      "f     SQL    6.0\n",
      "h  Python   10.0\n"
     ]
    }
   ],
   "source": [
    "import pandas as pd\n",
    "import numpy as np\n",
    "\n",
    "selected_rows = df.loc[['b','f','h']]\n",
    "print(selected_rows)\n"
   ]
  },
  {
   "cell_type": "markdown",
   "metadata": {
    "id": "qqTAC4pkxfmL"
   },
   "source": [
    "**Exercise-17:** Given the Dataframe created in **Exercise-13**, using **`.iloc`** to select and print the first three rows of the DataFrame."
   ]
  },
  {
   "cell_type": "code",
   "execution_count": 49,
   "metadata": {
    "colab": {
     "base_uri": "https://localhost:8080/"
    },
    "id": "Bkw39n9Lxm7K",
    "outputId": "7d504351-a5b6-4426-f28a-07db8897d561"
   },
   "outputs": [
    {
     "name": "stdout",
     "output_type": "stream",
     "text": [
      "  grammer  score\n",
      "a  Python    1.0\n",
      "b       C    2.0\n",
      "c    Java    NaN\n"
     ]
    }
   ],
   "source": [
    "import pandas as pd\n",
    "import numpy as np\n",
    "\n",
    "selected_rows = df.iloc[0:3]\n",
    "print(selected_rows)"
   ]
  },
  {
   "cell_type": "markdown",
   "metadata": {
    "id": "7DjOsDnYx9Bc"
   },
   "source": [
    "**Exercise-18:** Given the Dataframe created in **Exercise-13**, select and print all rows where the **'grammer'** is **'Python'** and the **'score'** is **greater than 5**."
   ]
  },
  {
   "cell_type": "code",
   "execution_count": 56,
   "metadata": {
    "colab": {
     "base_uri": "https://localhost:8080/"
    },
    "id": "36Se8mqNydR9",
    "outputId": "0406a60c-2394-4dd4-9c09-88dcafddbab4"
   },
   "outputs": [
    {
     "name": "stdout",
     "output_type": "stream",
     "text": [
      "  grammer  score\n",
      "h  Python   10.0\n"
     ]
    }
   ],
   "source": [
    "import pandas as pd\n",
    "import numpy as np\n",
    "result = df[(df['grammer'] == 'Python') & (df['score'] > 5)]\n",
    "print(result)\n"
   ]
  },
  {
   "cell_type": "markdown",
   "metadata": {
    "id": "3VhlAzFmzqlK"
   },
   "source": [
    "**Exercise-19:** Given the Dataframe created in **Exercise-13**, calculate the **mean** of the **'score'** column and select and print all rows where the 'score' is **greater** than the mean."
   ]
  },
  {
   "cell_type": "code",
   "execution_count": 73,
   "metadata": {
    "colab": {
     "base_uri": "https://localhost:8080/"
    },
    "id": "FIUf6roEzzU6",
    "outputId": "69ae4fb5-fece-4d7f-de46-3c64a6477ff4"
   },
   "outputs": [
    {
     "name": "stdout",
     "output_type": "stream",
     "text": [
      "  grammer  score\n",
      "f     SQL    6.0\n",
      "g     PHP    7.0\n",
      "h  Python   10.0\n"
     ]
    }
   ],
   "source": [
    "import pandas as pd\n",
    "import numpy as np\n",
    "\n",
    "result = df[df['score'] > df['score'].mean()]\n",
    "print(result)\n"
   ]
  },
  {
   "cell_type": "markdown",
   "metadata": {
    "id": "BC4Z7cbjJ4Uh"
   },
   "source": [
    "**Exercise-20:** Given the Dataframe created in **Exercise-13**, calculate the **mean** of the **'score'** column and select and print all rows where the 'score' is **greater** than the mean.(Use **`.iloc`** to achieve this)"
   ]
  },
  {
   "cell_type": "code",
   "execution_count": 75,
   "metadata": {
    "colab": {
     "base_uri": "https://localhost:8080/"
    },
    "id": "r1GFtfW7JbX9",
    "outputId": "496f07db-50f3-496c-d2ab-1f07c52520b8"
   },
   "outputs": [
    {
     "name": "stdout",
     "output_type": "stream",
     "text": [
      "  grammer  score\n",
      "f     SQL    6.0\n",
      "g     PHP    7.0\n",
      "h  Python   10.0\n"
     ]
    }
   ],
   "source": [
    "import pandas as pd\n",
    "import numpy as np\n",
    "\n",
    "mean_score = df['score'].mean()\n",
    "mask = df['score'] > mean_score\n",
    "result = df.iloc[mask.values]\n",
    "print(result)"
   ]
  },
  {
   "cell_type": "markdown",
   "metadata": {
    "id": "EfMTI6StOr9W"
   },
   "source": [
    "**Exercise-21:** Given the Dataframe **df1** and **df2**, compute the **left outer join** of df1 and df2, print the results"
   ]
  },
  {
   "cell_type": "code",
   "execution_count": 77,
   "metadata": {
    "colab": {
     "base_uri": "https://localhost:8080/"
    },
    "id": "ZlUbPgT6WxBw",
    "outputId": "76ba9b6b-c48e-4774-97bf-be6b4d16baf1"
   },
   "outputs": [
    {
     "name": "stdout",
     "output_type": "stream",
     "text": [
      "df1:\n",
      "--------------------------------------------------\n",
      "  grammer  score\n",
      "0  Python    1.0\n",
      "1       C    2.0\n",
      "2    Java    NaN\n",
      "3      GO    4.0\n",
      "4     NaN    5.0\n",
      "5     SQL    6.0\n",
      "6     PHP    7.0\n",
      "7  Python   10.0\n",
      "--------------------------------------------------\n",
      "df2:\n",
      "--------------------------------------------------\n",
      "  grammer  popularity\n",
      "0  Python           9\n",
      "1     C++           8\n",
      "2       C           7\n",
      "3    Java           6\n",
      "4      GO           5\n",
      "5     SQL           4\n",
      "6     PHP           3\n",
      "--------------------------------------------------\n",
      "left merged:\n",
      "--------------------------------------------------\n",
      "  grammer  score  popularity\n",
      "0  Python    1.0         9.0\n",
      "1       C    2.0         7.0\n",
      "2    Java    NaN         6.0\n",
      "3      GO    4.0         5.0\n",
      "4     NaN    5.0         NaN\n",
      "5     SQL    6.0         4.0\n",
      "6     PHP    7.0         3.0\n",
      "7  Python   10.0         9.0\n",
      "--------------------------------------------------\n"
     ]
    }
   ],
   "source": [
    "import pandas as pd\n",
    "import numpy as np\n",
    "data1 = {\"grammer\":[\"Python\",\"C\",\"Java\",\"GO\",np.nan,\"SQL\",\"PHP\",\"Python\"], \"score\":[1,2,np.nan,4,5,6,7,10]}\n",
    "df1 = pd.DataFrame(data1)\n",
    "data2 = {\"grammer\":[\"Python\",\"C++\",\"C\",\"Java\",\"GO\",\"SQL\",\"PHP\"], \"popularity\":[9,8,7,6,5,4,3]}\n",
    "df2 = pd.DataFrame(data2) \n",
    "print('df1:' , end = end_string)\n",
    "print(df1, end = end_string)\n",
    "print('df2:' , end = end_string)\n",
    "print(df2, end = end_string)\n",
    "\n",
    "merged = pd.merge(df1,df2, how='left')\n",
    "print('left merged:' , end = end_string)\n",
    "print(merged, end = end_string)"
   ]
  },
  {
   "cell_type": "markdown",
   "metadata": {
    "id": "8mSh_0xzZm9z"
   },
   "source": [
    "**Exercise-22:** Given the Dataframe **df1** and **df2**, compute the **right outer join** of df1 and df2, print the results"
   ]
  },
  {
   "cell_type": "code",
   "execution_count": 78,
   "metadata": {
    "colab": {
     "base_uri": "https://localhost:8080/"
    },
    "id": "BMnLonlUZt0Z",
    "outputId": "852abe2d-6f87-4050-ba23-61f2e846fa22"
   },
   "outputs": [
    {
     "name": "stdout",
     "output_type": "stream",
     "text": [
      "df1:\n",
      "--------------------------------------------------\n",
      "  grammer  score\n",
      "0  Python    1.0\n",
      "1       C    2.0\n",
      "2    Java    NaN\n",
      "3      GO    4.0\n",
      "4     NaN    5.0\n",
      "5     SQL    6.0\n",
      "6     PHP    7.0\n",
      "7  Python   10.0\n",
      "--------------------------------------------------\n",
      "df2:\n",
      "--------------------------------------------------\n",
      "  grammer  popularity\n",
      "0  Python           9\n",
      "1     C++           8\n",
      "2       C           7\n",
      "3    Java           6\n",
      "4      GO           5\n",
      "5     SQL           4\n",
      "6     PHP           3\n",
      "--------------------------------------------------\n",
      "right merged:\n",
      "--------------------------------------------------\n",
      "  grammer  score  popularity\n",
      "0  Python    1.0           9\n",
      "1  Python   10.0           9\n",
      "2     C++    NaN           8\n",
      "3       C    2.0           7\n",
      "4    Java    NaN           6\n",
      "5      GO    4.0           5\n",
      "6     SQL    6.0           4\n",
      "7     PHP    7.0           3\n",
      "--------------------------------------------------\n"
     ]
    }
   ],
   "source": [
    "import pandas as pd\n",
    "import numpy as np\n",
    "data1 = {\"grammer\":[\"Python\",\"C\",\"Java\",\"GO\",np.nan,\"SQL\",\"PHP\",\"Python\"], \"score\":[1,2,np.nan,4,5,6,7,10]}\n",
    "df1 = pd.DataFrame(data1)\n",
    "data2 = {\"grammer\":[\"Python\",\"C++\",\"C\",\"Java\",\"GO\",\"SQL\",\"PHP\"], \"popularity\":[9,8,7,6,5,4,3]}\n",
    "df2 = pd.DataFrame(data2) \n",
    "print('df1:' , end = end_string)\n",
    "print(df1, end = end_string)\n",
    "print('df2:' , end = end_string)\n",
    "print(df2, end = end_string)\n",
    "\n",
    "merged = pd.merge(df1,df2, how='right')\n",
    "print('right merged:' , end = end_string)\n",
    "print(merged, end = end_string)\n"
   ]
  },
  {
   "cell_type": "markdown",
   "metadata": {
    "id": "bN55J8YNZnH7"
   },
   "source": [
    "**Exercise-23:** Given the Dataframe **df1** and **df2**, compute the **full outer join** of df1 and df2, print the results"
   ]
  },
  {
   "cell_type": "code",
   "execution_count": 79,
   "metadata": {
    "colab": {
     "base_uri": "https://localhost:8080/"
    },
    "id": "HHEyIjnqZ7_a",
    "outputId": "1297d4ec-cc68-4c04-98c9-a19825f964ab"
   },
   "outputs": [
    {
     "name": "stdout",
     "output_type": "stream",
     "text": [
      "df1:\n",
      "--------------------------------------------------\n",
      "  grammer  score\n",
      "0  Python    1.0\n",
      "1       C    2.0\n",
      "2    Java    NaN\n",
      "3      GO    4.0\n",
      "4     NaN    5.0\n",
      "5     SQL    6.0\n",
      "6     PHP    7.0\n",
      "7  Python   10.0\n",
      "--------------------------------------------------\n",
      "df2:\n",
      "--------------------------------------------------\n",
      "  grammer  popularity\n",
      "0  Python           9\n",
      "1     C++           8\n",
      "2       C           7\n",
      "3    Java           6\n",
      "4      GO           5\n",
      "5     SQL           4\n",
      "6     PHP           3\n",
      "--------------------------------------------------\n",
      "outer merged:\n",
      "--------------------------------------------------\n",
      "  grammer  score  popularity\n",
      "0  Python    1.0         9.0\n",
      "1  Python   10.0         9.0\n",
      "2       C    2.0         7.0\n",
      "3    Java    NaN         6.0\n",
      "4      GO    4.0         5.0\n",
      "5     NaN    5.0         NaN\n",
      "6     SQL    6.0         4.0\n",
      "7     PHP    7.0         3.0\n",
      "8     C++    NaN         8.0\n",
      "--------------------------------------------------\n"
     ]
    }
   ],
   "source": [
    "import pandas as pd\n",
    "import numpy as np\n",
    "\n",
    "data1 = {\"grammer\":[\"Python\",\"C\",\"Java\",\"GO\",np.nan,\"SQL\",\"PHP\",\"Python\"], \"score\":[1,2,np.nan,4,5,6,7,10]}\n",
    "df1 = pd.DataFrame(data1)\n",
    "data2 = {\"grammer\":[\"Python\",\"C++\",\"C\",\"Java\",\"GO\",\"SQL\",\"PHP\"], \"popularity\":[9,8,7,6,5,4,3]}\n",
    "df2 = pd.DataFrame(data2) \n",
    "print('df1:' , end = end_string)\n",
    "print(df1, end = end_string)\n",
    "print('df2:' , end = end_string)\n",
    "print(df2, end = end_string)\n",
    "\n",
    "merged = pd.merge(df1,df2, how='outer')\n",
    "print('outer merged:' , end = end_string)\n",
    "print(merged, end = end_string)"
   ]
  },
  {
   "cell_type": "markdown",
   "metadata": {
    "id": "t6k0sCfxZnQy"
   },
   "source": [
    "**Exercise-24:** Given the Dataframe **df1** and **df2**, compute the **inner join** of df1 and df2, print the results"
   ]
  },
  {
   "cell_type": "code",
   "execution_count": 81,
   "metadata": {
    "colab": {
     "base_uri": "https://localhost:8080/"
    },
    "id": "hOVsFlKSaFVK",
    "outputId": "9b40d8a0-f9b5-4c5b-8bcb-56d97c65f438"
   },
   "outputs": [
    {
     "name": "stdout",
     "output_type": "stream",
     "text": [
      "df1:\n",
      "--------------------------------------------------\n",
      "  grammer  score\n",
      "0  Python    1.0\n",
      "1       C    2.0\n",
      "2    Java    NaN\n",
      "3      GO    4.0\n",
      "4     NaN    5.0\n",
      "5     SQL    6.0\n",
      "6     PHP    7.0\n",
      "7  Python   10.0\n",
      "--------------------------------------------------\n",
      "df2:\n",
      "--------------------------------------------------\n",
      "  grammer  popularity\n",
      "0  Python           9\n",
      "1     C++           8\n",
      "2       C           7\n",
      "3    Java           6\n",
      "4      GO           5\n",
      "5     SQL           4\n",
      "6     PHP           3\n",
      "--------------------------------------------------\n",
      "inner  merged:\n",
      "--------------------------------------------------\n",
      "  grammer  score  popularity\n",
      "0  Python    1.0           9\n",
      "1  Python   10.0           9\n",
      "2       C    2.0           7\n",
      "3    Java    NaN           6\n",
      "4      GO    4.0           5\n",
      "5     SQL    6.0           4\n",
      "6     PHP    7.0           3\n",
      "--------------------------------------------------\n"
     ]
    }
   ],
   "source": [
    "import pandas as pd\n",
    "import numpy as np\n",
    "\n",
    "data1 = {\"grammer\":[\"Python\",\"C\",\"Java\",\"GO\",np.nan,\"SQL\",\"PHP\",\"Python\"], \"score\":[1,2,np.nan,4,5,6,7,10]}\n",
    "df1 = pd.DataFrame(data1)\n",
    "data2 = {\"grammer\":[\"Python\",\"C++\",\"C\",\"Java\",\"GO\",\"SQL\",\"PHP\"], \"popularity\":[9,8,7,6,5,4,3]}\n",
    "df2 = pd.DataFrame(data2) \n",
    "print('df1:' , end = end_string)\n",
    "print(df1, end = end_string)\n",
    "print('df2:' , end = end_string)\n",
    "print(df2, end = end_string)\n",
    "\n",
    "merged = pd.merge(df1,df2, how='inner')\n",
    "print('inner  merged:' , end = end_string)\n",
    "print(merged, end = end_string)\n"
   ]
  },
  {
   "cell_type": "markdown",
   "metadata": {
    "id": "qgNVAzPCbiwK"
   },
   "source": [
    "**Exercise-25:** Given the Dataframe **employee_df**, use the **`df.apply`** method to create a new column that determines whether each employee's salary is **greater** than **the average salary**, and **count the number** of employees with a salary **above the average**."
   ]
  },
  {
   "cell_type": "code",
   "execution_count": null,
   "metadata": {
    "colab": {
     "base_uri": "https://localhost:8080/"
    },
    "id": "XLN6w4hPblqB",
    "outputId": "2dbded75-b2f8-4820-bbf0-2c1320f0c964"
   },
   "outputs": [
    {
     "name": "stdout",
     "output_type": "stream",
     "text": [
      "   education  salary categories\n",
      "0   Bachelor   27500       high\n",
      "1   Bachelor   30000       high\n",
      "2  Unlimited   27500       high\n",
      "3   Bachelor   16500     medium\n",
      "4   Bachelor   15000     medium\n",
      "Number of Employees with Salary Greater Than Average Salary: 3\n"
     ]
    }
   ],
   "source": [
    "import pandas as pd\n",
    "import numpy as np\n",
    "\n",
    "#given dataframe\n",
    "employee_data = {\"education\": [\"Bachelor\", \"Bachelor\", \"Unlimited\", \"Bachelor\", \"Bachelor\"],\n",
    "     \"salary\": [27500, 30000, 27500, 16500, 15000],\n",
    "     \"categories\": [\"high\", \"high\", \"high\", \"medium\", \"medium\"]\n",
    "}\n",
    "\n",
    "employee_df = pd.DataFrame(employee_data)\n"
   ]
  },
  {
   "cell_type": "markdown",
   "metadata": {
    "id": "n4dCP90YhBli"
   },
   "source": [
    "**Exercise-26:** Given the Dataframe **salary_df**, use the **`df.applymap`** method to normalize each value of salary to a scale of 0 to 1 based on the **minimum** and **maximum** salaries in the DataFrame.(Normalize: $y = \\frac{x - \\text{min}}{\\text{max} - \\text{min}}$)"
   ]
  },
  {
   "cell_type": "code",
   "execution_count": null,
   "metadata": {
    "colab": {
     "base_uri": "https://localhost:8080/"
    },
    "id": "HS17Hn4iiHwT",
    "outputId": "b41017ef-6ef0-442d-c240-0e5db5d942e4"
   },
   "outputs": [
    {
     "name": "stdout",
     "output_type": "stream",
     "text": [
      "   1st month  2nd month\n",
      "0      29600      27500\n",
      "1      28300      30000\n",
      "2      25430      27500\n",
      "3      14000      16500\n",
      "4      16000      15000\n",
      "--------------------------------------------------\n",
      "   1st month  2nd month\n",
      "0   0.975000    0.84375\n",
      "1   0.893750    1.00000\n",
      "2   0.714375    0.84375\n",
      "3   0.000000    0.15625\n",
      "4   0.125000    0.06250\n"
     ]
    },
    {
     "name": "stderr",
     "output_type": "stream",
     "text": [
      "<ipython-input-27-6bdf77db6a67>:20: FutureWarning: DataFrame.applymap has been deprecated. Use DataFrame.map instead.\n",
      "  salary_df = salary_df.applymap(lambda x: (x - min_salary) / (max_salary - min_salary))\n"
     ]
    }
   ],
   "source": [
    "import pandas as pd\n",
    "import numpy as np\n",
    "\n",
    "#given dataframe\n",
    "salary_data = {\"1st month\": [29600, 28300, 25430, 14000, 16000],\n",
    "     \"2nd month\": [27500, 30000, 27500, 16500, 15000]\n",
    "}\n",
    "\n",
    "salary_df = pd.DataFrame(salary_data)\n",
    "\n"
   ]
  }
 ],
 "metadata": {
  "colab": {
   "provenance": []
  },
  "kernelspec": {
   "display_name": "Python 3 (ipykernel)",
   "language": "python",
   "name": "python3"
  },
  "language_info": {
   "codemirror_mode": {
    "name": "ipython",
    "version": 3
   },
   "file_extension": ".py",
   "mimetype": "text/x-python",
   "name": "python",
   "nbconvert_exporter": "python",
   "pygments_lexer": "ipython3",
   "version": "3.11.7"
  }
 },
 "nbformat": 4,
 "nbformat_minor": 4
}
