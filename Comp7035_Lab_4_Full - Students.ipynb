{
 "cells": [
  {
   "cell_type": "markdown",
   "id": "0b3dd32b-9205-40e4-a86c-1dfe9c51ff7c",
   "metadata": {
    "id": "0b3dd32b-9205-40e4-a86c-1dfe9c51ff7c"
   },
   "source": [
    "## Lab Demo COMP7035 Topic 4\n",
    "### Objective\n",
    "- File I/O  \n",
    "- Directory"
   ]
  },
  {
   "cell_type": "markdown",
   "id": "hktOaQwaSnLZ",
   "metadata": {
    "id": "hktOaQwaSnLZ"
   },
   "source": [
    "**The Python Contents That you Neet To Use**"
   ]
  },
  {
   "cell_type": "markdown",
   "id": "PYO8TAjdSlCP",
   "metadata": {
    "id": "PYO8TAjdSlCP"
   },
   "source": [
    "What is Python language?                                                \n",
    "Python is a widely used high-level, general-purpose, interpreted, dynamic programming language.Its design philosophy emphasizes code readability, and its syntax allows programmers to express concepts in fewer lines of code than possible in  languages such as C++ or Java. Python supports multiple programming paradigms, including object-oriented, imperative and functional programming or procedural styles.It features a dynamic type system and automatic memory management and has a large and comprehensive standard library.The best way we learn anything is by practice and exercise questions. We  have started this section for those (beginner to intermediate) who are familiar with Python."
   ]
  },
  {
   "cell_type": "markdown",
   "id": "446f0cfa",
   "metadata": {},
   "source": [
    "Please create a file in the consle. Put above texts in the file. Name the file as \"test.txt\"."
   ]
  },
  {
   "cell_type": "code",
   "execution_count": 11,
   "id": "ff70cf7d-3f27-43e4-957e-d3dda5ad129c",
   "metadata": {},
   "outputs": [],
   "source": [
    "import os\n",
    "os.mkdir(\"test\")\n"
   ]
  },
  {
   "cell_type": "code",
   "execution_count": 7,
   "id": "488fb5f0-ac29-4ee0-a007-1351476e9e2f",
   "metadata": {},
   "outputs": [
    {
     "data": {
      "text/plain": [
       "'C:\\\\Users\\\\f4428132\\\\Desktop'"
      ]
     },
     "execution_count": 7,
     "metadata": {},
     "output_type": "execute_result"
    }
   ],
   "source": [
    "os.getcwd()"
   ]
  },
  {
   "cell_type": "code",
   "execution_count": 10,
   "id": "308a99cc-e019-4cf7-ba72-0b5b38a5285e",
   "metadata": {},
   "outputs": [],
   "source": [
    "os.rmdir(\"test\")"
   ]
  },
  {
   "cell_type": "code",
   "execution_count": 12,
   "id": "6a07c1ad-f278-4d75-8813-9bc70b6efd95",
   "metadata": {},
   "outputs": [],
   "source": [
    "os.makedirs(\"test/test2\")"
   ]
  },
  {
   "cell_type": "code",
   "execution_count": 22,
   "id": "92409fe3-5735-445a-9f87-defa6a2bd4eb",
   "metadata": {},
   "outputs": [],
   "source": [
    "fo = open(\"test.txt\",\"w\")\n",
    "lines = [\"Beautiful is better than ugly.\\n\", \"Explicitis better than implicit.\\n\"]\n",
    "fo.writelines(lines)\n",
    "fo.close()"
   ]
  },
  {
   "cell_type": "code",
   "execution_count": 27,
   "id": "a75e70eb-e320-415d-9df6-6a943e248808",
   "metadata": {},
   "outputs": [],
   "source": [
    "os.rename(\"changeName.txt\",\"test.txt\")"
   ]
  },
  {
   "cell_type": "code",
   "execution_count": 30,
   "id": "0b89f3e0-55b0-4904-ba87-1ccfa8d917fe",
   "metadata": {},
   "outputs": [
    {
     "name": "stdout",
     "output_type": "stream",
     "text": [
      "The file name is: test.txt\n",
      "The read file is: Beautiful is better than ugly.\n",
      "\n",
      "The read file is: Explicitis better than implicit.\n",
      "\n"
     ]
    }
   ],
   "source": [
    "fo = open(\"test.txt\",\"r\")\n",
    "print(\"The file name is:\", fo.name)\n",
    "for line in fo.readlines():\n",
    "    print(\"The read file is: %s\" % (line))"
   ]
  },
  {
   "cell_type": "code",
   "execution_count": 19,
   "id": "54abc52c-469f-4c45-bb29-665c92beb852",
   "metadata": {},
   "outputs": [
    {
     "name": "stdout",
     "output_type": "stream",
     "text": [
      "The file name is:  test.txt\n"
     ]
    }
   ],
   "source": [
    "fo = open(\"test.txt\", \"r\")\n",
    "print(\"The file name is: \", fo.name)\n",
    "for line in fo.readlines():\n",
    "    print(\"The read file is: %s\" % (line))\n",
    "# close the file\n",
    "fo.close()"
   ]
  },
  {
   "cell_type": "markdown",
   "id": "IsA0lgCJQLUM",
   "metadata": {
    "id": "IsA0lgCJQLUM"
   },
   "source": [
    "**Exercise-1**"
   ]
  },
  {
   "cell_type": "markdown",
   "id": "9SwRUQVOQNcx",
   "metadata": {
    "id": "9SwRUQVOQNcx"
   },
   "source": [
    "Q1. Write a Python program to read an entire text file.\n",
    "\n"
   ]
  },
  {
   "cell_type": "code",
   "execution_count": 52,
   "id": "i0F8545DQQD7",
   "metadata": {
    "id": "i0F8545DQQD7"
   },
   "outputs": [
    {
     "name": "stdout",
     "output_type": "stream",
     "text": [
      "Central and Western\n",
      "\n",
      "Eastern\n",
      "\n",
      "Islands\n",
      "\n",
      "Kowloon City\n",
      "\n",
      "Kwai Tsing\n",
      "\n",
      "Kwun Tong\n",
      "\n",
      "North\n",
      "\n",
      "Sai Kung\n",
      "\n",
      "Sha Tin\n",
      "\n",
      "Sham Shui Po\n",
      "\n",
      "Southern\n",
      "\n",
      "Tai Po\n",
      "\n",
      "Tsuen Wan\n",
      "\n",
      "Tuen Mun\n",
      "\n",
      "Wan Chai\n",
      "\n",
      "Wong Tai Sin\n",
      "\n",
      "Yau Tsim Mong\n",
      "\n",
      "Yuen Long\n"
     ]
    }
   ],
   "source": [
    "def read_file(file_path):\n",
    "    try:\n",
    "        with open(file_path,'r') as file:\n",
    "            content = file.read()\n",
    "            print(content)\n",
    "    except FileNotFoundError:\n",
    "        print(f\"The file {file_path} was not found.\")\n",
    "    except Exception as e:\n",
    "        print(f\"An error occurred: {e}\")\n",
    "        \n",
    "file_path = 'districts.txt'\n",
    "read_file(file_path)\n"
   ]
  },
  {
   "cell_type": "markdown",
   "id": "z4e77LaNQSP7",
   "metadata": {
    "id": "z4e77LaNQSP7"
   },
   "source": [
    "Q2. Write a Python program to read first n lines of a file.\n",
    "\n"
   ]
  },
  {
   "cell_type": "code",
   "execution_count": 45,
   "id": "pEI2wyzMQSiF",
   "metadata": {
    "id": "pEI2wyzMQSiF"
   },
   "outputs": [
    {
     "name": "stdout",
     "output_type": "stream",
     "text": [
      "Central and Western\n",
      "\n",
      "Eastern\n",
      "\n",
      "Islands\n",
      "\n",
      "Kowloon City\n",
      "\n",
      "Kwai Tsing\n",
      "\n",
      "Kwun Tong\n",
      "\n",
      "North\n",
      "\n",
      "Sai Kung\n",
      "\n",
      "Sha Tin\n",
      "\n",
      "Sham Shui Po\n",
      "\n",
      "Southern\n",
      "\n",
      "Tai Po\n",
      "\n",
      "Tsuen Wan\n",
      "\n",
      "Tuen Mun\n",
      "\n",
      "Wan Chai\n",
      "\n",
      "Wong Tai Sin\n",
      "\n",
      "Yau Tsim Mong\n",
      "\n",
      "Yuen Long\n"
     ]
    }
   ],
   "source": [
    "def read_first_n_file(file_path,n):\n",
    "    try:\n",
    "        with open(file_path,'r') as file:\n",
    "            for i in range(n):\n",
    "                line = file.readline()\n",
    "                if line:\n",
    "                    print(line.strip())\n",
    "                else:\n",
    "                    break\n",
    "            print(content)\n",
    "    except FileNotFoundError:\n",
    "        print(f\"The file {file_path} was not found.\")\n",
    "    except Exception as e:\n",
    "        print(f\"An error occurred: {e}\")\n",
    "        \n",
    "file_path = 'districts.txt'\n",
    "read_file(file_path)"
   ]
  },
  {
   "cell_type": "markdown",
   "id": "NkeC87drQY1c",
   "metadata": {
    "id": "NkeC87drQY1c"
   },
   "source": [
    "Q3. Write a Python program to append text to a file and display the text."
   ]
  },
  {
   "cell_type": "code",
   "execution_count": 46,
   "id": "3oEQtdAfQZHf",
   "metadata": {
    "id": "3oEQtdAfQZHf"
   },
   "outputs": [
    {
     "name": "stdout",
     "output_type": "stream",
     "text": [
      "Current contents of the file:\n",
      "Beautiful is better than ugly.\n",
      "Explicitis better than implicit.\n",
      "This is the text to append.\n",
      "\n"
     ]
    }
   ],
   "source": [
    "def append_text_to_file(file_path, text):\n",
    "    try:\n",
    "        # Append text to the file\n",
    "        with open(file_path, 'a') as file:\n",
    "            file.write(text + '\\n')  # Appending text with a newline\n",
    "\n",
    "        # Display the contents of the file\n",
    "        with open(file_path, 'r') as file:\n",
    "            content = file.read()\n",
    "            print(\"Current contents of the file:\")\n",
    "            print(content)\n",
    "\n",
    "    except Exception as e:\n",
    "        print(f\"An error occurred: {e}\")\n",
    "\n",
    "# Replace 'your_file.txt' with the path to your text file\n",
    "file_path = 'test.txt'\n",
    "text_to_append = \"This is the text to append.\"  # Change this to the text you want to append\n",
    "append_text_to_file(file_path, text_to_append)\n"
   ]
  },
  {
   "cell_type": "markdown",
   "id": "d_5eR7T_Qelm",
   "metadata": {
    "id": "d_5eR7T_Qelm"
   },
   "source": [
    "Q4: Write a Python program to read a file line by line and store it into a list."
   ]
  },
  {
   "cell_type": "code",
   "execution_count": 47,
   "id": "u7JOHRqmQe_Q",
   "metadata": {
    "id": "u7JOHRqmQe_Q"
   },
   "outputs": [
    {
     "name": "stdout",
     "output_type": "stream",
     "text": [
      "Lines from the file:\n",
      "Beautiful is better than ugly.\n",
      "Explicitis better than implicit.\n",
      "This is the text to append.\n"
     ]
    }
   ],
   "source": [
    "def read_file_to_list(file_path):\n",
    "    lines = []  # Initialize an empty list to store lines\n",
    "    try:\n",
    "        with open(file_path, 'r') as file:\n",
    "            for line in file:\n",
    "                lines.append(line.strip())  # Append each line without extra newlines\n",
    "        \n",
    "        return lines  # Return the list of lines\n",
    "\n",
    "    except FileNotFoundError:\n",
    "        print(f\"The file {file_path} was not found.\")\n",
    "    except Exception as e:\n",
    "        print(f\"An error occurred: {e}\")\n",
    "\n",
    "# Replace 'your_file.txt' with the path to your text file\n",
    "file_path = 'test.txt'\n",
    "lines_list = read_file_to_list(file_path)\n",
    "\n",
    "if lines_list is not None:\n",
    "    print(\"Lines from the file:\")\n",
    "    for line in lines_list:\n",
    "        print(line)  # Print each line stored in the list\n"
   ]
  },
  {
   "cell_type": "code",
   "execution_count": 55,
   "id": "94acd3ea-80ed-40d8-9bb0-a103083d7c01",
   "metadata": {},
   "outputs": [
    {
     "name": "stdout",
     "output_type": "stream",
     "text": [
      "['Central and Western\\n', '\\n', 'Eastern\\n', '\\n', 'Islands\\n', '\\n', 'Kowloon City\\n', '\\n', 'Kwai Tsing\\n', '\\n', 'Kwun Tong\\n', '\\n', 'North\\n', '\\n', 'Sai Kung\\n', '\\n', 'Sha Tin\\n', '\\n', 'Sham Shui Po\\n', '\\n', 'Southern\\n', '\\n', 'Tai Po\\n', '\\n', 'Tsuen Wan\\n', '\\n', 'Tuen Mun\\n', '\\n', 'Wan Chai\\n', '\\n', 'Wong Tai Sin\\n', '\\n', 'Yau Tsim Mong\\n', '\\n', 'Yuen Long']\n"
     ]
    }
   ],
   "source": [
    "def file_read(fname):\n",
    "    with open(fname) as f:\n",
    "        content_list = f.readlines()\n",
    "        print(content_list)\n",
    "\n",
    "file_read('districts.txt')"
   ]
  },
  {
   "cell_type": "markdown",
   "id": "Co_g3HeoQnyK",
   "metadata": {
    "id": "Co_g3HeoQnyK"
   },
   "source": [
    "Q5: Write a Python program to read a file line by line store it into a variable.\n"
   ]
  },
  {
   "cell_type": "code",
   "execution_count": 51,
   "id": "H_QulVcHQomt",
   "metadata": {
    "id": "H_QulVcHQomt"
   },
   "outputs": [
    {
     "name": "stdout",
     "output_type": "stream",
     "text": [
      "['Beautiful is better than ugly.\\n', 'Explicitis better than implicit.\\n', 'This is the text to append.\\n']\n",
      "Content of the file:\n",
      "\n"
     ]
    }
   ],
   "source": [
    "def read_file_to_variable(file_path):\n",
    "    content = \"\"  # Initialize an empty string to store the content\n",
    "    try:\n",
    "        with open(file_path, 'r') as file:\n",
    "            #print(file.readlines())\n",
    "            for line in file:\n",
    "                content += line  # Append each line to the content variable\n",
    "        \n",
    "        return content  # Return the complete content\n",
    "\n",
    "    except FileNotFoundError:\n",
    "        print(f\"The file {file_path} was not found.\")\n",
    "    except Exception as e:\n",
    "        print(f\"An error occurred: {e}\")\n",
    "\n",
    "# Replace 'your_file.txt' with the path to your text file\n",
    "file_path = 'test.txt'\n",
    "file_content = read_file_to_variable(file_path)\n",
    "\n",
    "if file_content is not None:\n",
    "    print(\"Content of the file:\")\n",
    "    print(file_content)  # Print the entire content stored in the variable\n"
   ]
  },
  {
   "cell_type": "markdown",
   "id": "LHEiybqgQ4Yv",
   "metadata": {
    "id": "LHEiybqgQ4Yv"
   },
   "source": [
    "Q6: Write a python program to find the longest words."
   ]
  },
  {
   "cell_type": "code",
   "execution_count": 56,
   "id": "OeXAXAF-Q4zd",
   "metadata": {
    "id": "OeXAXAF-Q4zd"
   },
   "outputs": [
    {
     "name": "stdout",
     "output_type": "stream",
     "text": [
      "['Southern']\n"
     ]
    }
   ],
   "source": [
    "def longest_word(filename):\n",
    "    with open(filename,'r') as infile:\n",
    "        words= infile.read().split()\n",
    "    max_len = max(len(word) for word in words)\n",
    "    return [word for word in words if len(word) == max_len]\n",
    "\n",
    "print(longest_word('districts.txt'))"
   ]
  },
  {
   "cell_type": "markdown",
   "id": "5erhWf25Q8y-",
   "metadata": {
    "id": "5erhWf25Q8y-"
   },
   "source": [
    "Q7: Write a Python program to count the number of lines in a text file.\n",
    "\n"
   ]
  },
  {
   "cell_type": "code",
   "execution_count": 58,
   "id": "TZHILz74Q9EZ",
   "metadata": {
    "id": "TZHILz74Q9EZ"
   },
   "outputs": [
    {
     "name": "stdout",
     "output_type": "stream",
     "text": [
      "35\n"
     ]
    }
   ],
   "source": [
    "def count_lines(filename):\n",
    "    with open(filename,'r') as file:\n",
    "        lines = file.readlines()\n",
    "        return len(lines)\n",
    "print(count_lines('districts.txt'))\n"
   ]
  },
  {
   "cell_type": "markdown",
   "id": "A3F8fjy_RCIU",
   "metadata": {
    "id": "A3F8fjy_RCIU"
   },
   "source": [
    "Q8: Write a Python program to count the frequency of words in a file.\n",
    "\n",
    "**Hint**: Please search this yourself: from collections import Counter\n"
   ]
  },
  {
   "cell_type": "code",
   "execution_count": 63,
   "id": "NppbOYy2RCah",
   "metadata": {
    "id": "NppbOYy2RCah"
   },
   "outputs": [
    {
     "ename": "IndentationError",
     "evalue": "expected an indented block after 'with' statement on line 3 (656089639.py, line 4)",
     "output_type": "error",
     "traceback": [
      "\u001b[1;36m  Cell \u001b[1;32mIn[63], line 4\u001b[1;36m\u001b[0m\n\u001b[1;33m    return(file.read().split())\u001b[0m\n\u001b[1;37m    ^\u001b[0m\n\u001b[1;31mIndentationError\u001b[0m\u001b[1;31m:\u001b[0m expected an indented block after 'with' statement on line 3\n"
     ]
    }
   ],
   "source": [
    "from collections import Counter\n",
    "def word_count(fname):\n",
    "     with open(fname,'r') as file:\n",
    "     return(file.read().split())\n",
    "print(word_count('districts.txt'))\n"
   ]
  },
  {
   "cell_type": "markdown",
   "id": "fD23xM2ORKR7",
   "metadata": {
    "id": "fD23xM2ORKR7"
   },
   "source": [
    "Q9: Write a Python program to read a random line from a file.\n",
    "\n",
    "**Hint:** random.choice()\n",
    "\n"
   ]
  },
  {
   "cell_type": "code",
   "execution_count": null,
   "id": "RJFzhqtLRKko",
   "metadata": {
    "id": "RJFzhqtLRKko"
   },
   "outputs": [],
   "source": [
    "import random"
   ]
  },
  {
   "cell_type": "markdown",
   "id": "y6G21ar0RXHu",
   "metadata": {
    "id": "y6G21ar0RXHu"
   },
   "source": [
    "Q10: Write a Python program to assess if a file is closed or not."
   ]
  },
  {
   "cell_type": "code",
   "execution_count": 67,
   "id": "3XgNU55ERXVd",
   "metadata": {
    "id": "3XgNU55ERXVd"
   },
   "outputs": [
    {
     "name": "stdout",
     "output_type": "stream",
     "text": [
      "False\n",
      "True\n"
     ]
    }
   ],
   "source": [
    "f = open('districts.txt','r')\n",
    "print(f.closed)\n",
    "f.close()\n",
    "print(f.closed)\n"
   ]
  },
  {
   "cell_type": "markdown",
   "id": "l6REBdb5RiAw",
   "metadata": {
    "id": "l6REBdb5RiAw"
   },
   "source": [
    "Q11: Write a Python program to generate 26 text files named A.txt, B.txt, and so on up to Z.txt.\n",
    "\n",
    "**Hint: Please check this on Internet: string.ascii_uppercase**\n"
   ]
  },
  {
   "cell_type": "code",
   "execution_count": null,
   "id": "zvF0gPClRkB1",
   "metadata": {
    "id": "zvF0gPClRkB1"
   },
   "outputs": [],
   "source": [
    "import string, os"
   ]
  },
  {
   "cell_type": "markdown",
   "id": "5f486484",
   "metadata": {},
   "source": [
    "Q11. Count the number of words in a file."
   ]
  },
  {
   "cell_type": "code",
   "execution_count": 68,
   "id": "70051ebb",
   "metadata": {},
   "outputs": [
    {
     "name": "stdout",
     "output_type": "stream",
     "text": [
      "The number of words in the file is: 15\n"
     ]
    }
   ],
   "source": [
    "def count_words_in_file(file_path):\n",
    "    \"\"\"Count the number of words in a given file.\"\"\"\n",
    "    try:\n",
    "        with open(file_path, 'r') as file:\n",
    "            # Read the file content\n",
    "            content = file.read()\n",
    "            # Split the content into words\n",
    "            words = content.split()\n",
    "            # Return the number of words\n",
    "            return len(words)\n",
    "    except FileNotFoundError:\n",
    "        print(f\"The file '{file_path}' does not exist.\")\n",
    "        return 0\n",
    "    except Exception as e:\n",
    "        print(f\"An error occurred: {e}\")\n",
    "        return 0\n",
    "\n",
    "# Replace 'your_file.txt' with the path to your text file\n",
    "file_path = 'test.txt'\n",
    "word_count = count_words_in_file(file_path)\n",
    "\n",
    "print(f\"The number of words in the file is: {word_count}\")\n"
   ]
  },
  {
   "cell_type": "markdown",
   "id": "zcE_pBXITA6h",
   "metadata": {
    "id": "zcE_pBXITA6h"
   },
   "source": [
    "**Exercise-2**\n",
    "\n",
    "Please download districts.txt from HKBU Moodle. And then put at a place that can be used by your console. Then, you can use this file to complete the following questions."
   ]
  },
  {
   "cell_type": "markdown",
   "id": "b60d5c67-53f4-4254-9e31-3dde911b024a",
   "metadata": {
    "id": "b60d5c67-53f4-4254-9e31-3dde911b024a"
   },
   "source": [
    "![distrcits](https://upload.wikimedia.org/wikipedia/commons/thumb/f/fe/Map_of_Hong_Kong_18_Districts_en.svg/1024px-Map_of_Hong_Kong_18_Districts_en.svg.png)"
   ]
  },
  {
   "cell_type": "markdown",
   "id": "9d5db38f-7ebd-4df4-851e-3e1b304edb51",
   "metadata": {
    "id": "9d5db38f-7ebd-4df4-851e-3e1b304edb51"
   },
   "source": [
    "The districts of Hong Kong are the 18 political areas of Hong Kong, a special administrative region of the People's Republic of China, that are geographically and administratively divided. Each district has a district council, formerly district boards, for which the boards were established in 1982. [More details](https://en.wikipedia.org/wiki/Districts_of_Hong_Kong)  \n",
    "The file `districts.txt` on Moodle contains 18 district names. We can read the file and display the distrcit names in alphabetical order"
   ]
  },
  {
   "cell_type": "code",
   "execution_count": null,
   "id": "3f9a9d05-aee2-42d7-be22-d06865d50cad",
   "metadata": {
    "id": "3f9a9d05-aee2-42d7-be22-d06865d50cad",
    "outputId": "16eaf463-cf01-487d-958a-23e2c6d99e01"
   },
   "outputs": [
    {
     "name": "stdout",
     "output_type": "stream",
     "text": [
      "Central and Western\n",
      "\n",
      "Eastern\n",
      "\n",
      "Islands\n",
      "\n",
      "Kowloon City\n",
      "\n",
      "Kwai Tsing\n",
      "\n",
      "Kwun Tong\n",
      "\n",
      "North\n",
      "\n",
      "Sai Kung\n",
      "\n",
      "Sha Tin\n",
      "\n",
      "Sham Shui Po\n",
      "\n",
      "Southern\n",
      "\n",
      "Tai Po\n",
      "\n",
      "Tsuen Wan\n",
      "\n",
      "Tuen Mun\n",
      "\n",
      "Wan Chai\n",
      "\n",
      "Wong Tai Sin\n",
      "\n",
      "Yau Tsim Mong\n",
      "\n",
      "Yuen Long\n",
      "\n"
     ]
    }
   ],
   "source": []
  },
  {
   "cell_type": "markdown",
   "id": "641aff1c-d106-49e7-b2db-13333bbf6ccf",
   "metadata": {
    "id": "641aff1c-d106-49e7-b2db-13333bbf6ccf"
   },
   "source": [
    "## Get current directory"
   ]
  },
  {
   "cell_type": "code",
   "execution_count": 31,
   "id": "cb7f575f-1f16-402e-9fc5-ab5aed61ab2e",
   "metadata": {
    "id": "cb7f575f-1f16-402e-9fc5-ab5aed61ab2e",
    "outputId": "d374ef1d-0a4d-4479-980a-91f47896cafd",
    "tags": []
   },
   "outputs": [
    {
     "data": {
      "text/plain": [
       "'C:\\\\Users\\\\f4428132\\\\Desktop'"
      ]
     },
     "execution_count": 31,
     "metadata": {},
     "output_type": "execute_result"
    }
   ],
   "source": [
    "import os\n",
    "\n",
    "os.getcwd()"
   ]
  },
  {
   "cell_type": "markdown",
   "id": "5d36370b-f56c-4a84-ab5c-6cd1ae1fa9c1",
   "metadata": {
    "id": "5d36370b-f56c-4a84-ab5c-6cd1ae1fa9c1"
   },
   "source": [
    "The extra `\\` is use for the escape sequence  \n",
    "You can get the same result if you use the full path"
   ]
  },
  {
   "cell_type": "code",
   "execution_count": 43,
   "id": "1c7205cd-22ab-4907-8eed-9edd20d537d4",
   "metadata": {
    "id": "1c7205cd-22ab-4907-8eed-9edd20d537d4",
    "outputId": "083ffd3b-66fd-4453-94b3-75f90806f8a7"
   },
   "outputs": [
    {
     "name": "stdout",
     "output_type": "stream",
     "text": [
      "\n",
      "\n",
      "\n",
      "\n",
      "\n",
      "\n",
      "\n",
      "\n",
      "\n",
      "\n",
      "\n",
      "\n",
      "\n",
      "\n",
      "\n",
      "\n",
      "\n",
      "\n",
      "\n",
      "\n",
      "\n",
      "\n",
      "\n",
      "\n",
      "\n",
      "\n",
      "\n",
      "\n",
      "\n",
      "\n",
      "\n",
      "\n",
      "\n",
      "\n",
      "Central and Western\n",
      "\n"
     ]
    }
   ],
   "source": [
    "file = open(os.getcwd() + '\\districts.txt','r')\n",
    "districts = [line for line in file]\n",
    "districts.sort()\n",
    "for i in range(0, 18):\n",
    "    print(districts[i])\n",
    "file.close()"
   ]
  },
  {
   "cell_type": "code",
   "execution_count": null,
   "id": "53a5c468-e109-484c-9848-b1c834d9f84b",
   "metadata": {},
   "outputs": [],
   "source": []
  }
 ],
 "metadata": {
  "colab": {
   "provenance": []
  },
  "kernelspec": {
   "display_name": "Python 3 (ipykernel)",
   "language": "python",
   "name": "python3"
  },
  "language_info": {
   "codemirror_mode": {
    "name": "ipython",
    "version": 3
   },
   "file_extension": ".py",
   "mimetype": "text/x-python",
   "name": "python",
   "nbconvert_exporter": "python",
   "pygments_lexer": "ipython3",
   "version": "3.11.7"
  }
 },
 "nbformat": 4,
 "nbformat_minor": 5
}
